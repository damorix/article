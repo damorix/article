{
 "cells": [
  {
   "cell_type": "code",
   "execution_count": 2,
   "metadata": {},
   "outputs": [],
   "source": [
    "import numpy as np\n",
    "import pandas as pd\n",
    "from sklearn.model_selection import train_test_split\n",
    "from sklearn.neighbors import KNeighborsClassifier \n",
    "from sklearn.metrics import confusion_matrix\n",
    "from sklearn.metrics import accuracy_score\n",
    "from sklearn.preprocessing import MinMaxScaler\n",
    "from sklearn.metrics import plot_confusion_matrix\n",
    "from sklearn.utils import resample\n",
    "import matplotlib.pyplot as plt\n",
    "import seaborn as sns\n",
    "from sklearn.svm import LinearSVC\n",
    "from sklearn.feature_selection import SelectFromModel"
   ]
  },
  {
   "cell_type": "code",
   "execution_count": 3,
   "metadata": {},
   "outputs": [],
   "source": [
    "df=pd.read_csv('archive/creditcard.csv')"
   ]
  },
  {
   "cell_type": "code",
   "execution_count": 4,
   "metadata": {},
   "outputs": [
    {
     "data": {
      "text/html": [
       "<div>\n",
       "<style scoped>\n",
       "    .dataframe tbody tr th:only-of-type {\n",
       "        vertical-align: middle;\n",
       "    }\n",
       "\n",
       "    .dataframe tbody tr th {\n",
       "        vertical-align: top;\n",
       "    }\n",
       "\n",
       "    .dataframe thead th {\n",
       "        text-align: right;\n",
       "    }\n",
       "</style>\n",
       "<table border=\"1\" class=\"dataframe\">\n",
       "  <thead>\n",
       "    <tr style=\"text-align: right;\">\n",
       "      <th></th>\n",
       "      <th>Time</th>\n",
       "      <th>V1</th>\n",
       "      <th>V2</th>\n",
       "      <th>V3</th>\n",
       "      <th>V4</th>\n",
       "      <th>V5</th>\n",
       "      <th>V6</th>\n",
       "      <th>V7</th>\n",
       "      <th>V8</th>\n",
       "      <th>V9</th>\n",
       "      <th>...</th>\n",
       "      <th>V21</th>\n",
       "      <th>V22</th>\n",
       "      <th>V23</th>\n",
       "      <th>V24</th>\n",
       "      <th>V25</th>\n",
       "      <th>V26</th>\n",
       "      <th>V27</th>\n",
       "      <th>V28</th>\n",
       "      <th>Amount</th>\n",
       "      <th>Class</th>\n",
       "    </tr>\n",
       "  </thead>\n",
       "  <tbody>\n",
       "    <tr>\n",
       "      <th>0</th>\n",
       "      <td>0.0</td>\n",
       "      <td>-1.359807</td>\n",
       "      <td>-0.072781</td>\n",
       "      <td>2.536347</td>\n",
       "      <td>1.378155</td>\n",
       "      <td>-0.338321</td>\n",
       "      <td>0.462388</td>\n",
       "      <td>0.239599</td>\n",
       "      <td>0.098698</td>\n",
       "      <td>0.363787</td>\n",
       "      <td>...</td>\n",
       "      <td>-0.018307</td>\n",
       "      <td>0.277838</td>\n",
       "      <td>-0.110474</td>\n",
       "      <td>0.066928</td>\n",
       "      <td>0.128539</td>\n",
       "      <td>-0.189115</td>\n",
       "      <td>0.133558</td>\n",
       "      <td>-0.021053</td>\n",
       "      <td>149.62</td>\n",
       "      <td>0</td>\n",
       "    </tr>\n",
       "    <tr>\n",
       "      <th>1</th>\n",
       "      <td>0.0</td>\n",
       "      <td>1.191857</td>\n",
       "      <td>0.266151</td>\n",
       "      <td>0.166480</td>\n",
       "      <td>0.448154</td>\n",
       "      <td>0.060018</td>\n",
       "      <td>-0.082361</td>\n",
       "      <td>-0.078803</td>\n",
       "      <td>0.085102</td>\n",
       "      <td>-0.255425</td>\n",
       "      <td>...</td>\n",
       "      <td>-0.225775</td>\n",
       "      <td>-0.638672</td>\n",
       "      <td>0.101288</td>\n",
       "      <td>-0.339846</td>\n",
       "      <td>0.167170</td>\n",
       "      <td>0.125895</td>\n",
       "      <td>-0.008983</td>\n",
       "      <td>0.014724</td>\n",
       "      <td>2.69</td>\n",
       "      <td>0</td>\n",
       "    </tr>\n",
       "    <tr>\n",
       "      <th>2</th>\n",
       "      <td>1.0</td>\n",
       "      <td>-1.358354</td>\n",
       "      <td>-1.340163</td>\n",
       "      <td>1.773209</td>\n",
       "      <td>0.379780</td>\n",
       "      <td>-0.503198</td>\n",
       "      <td>1.800499</td>\n",
       "      <td>0.791461</td>\n",
       "      <td>0.247676</td>\n",
       "      <td>-1.514654</td>\n",
       "      <td>...</td>\n",
       "      <td>0.247998</td>\n",
       "      <td>0.771679</td>\n",
       "      <td>0.909412</td>\n",
       "      <td>-0.689281</td>\n",
       "      <td>-0.327642</td>\n",
       "      <td>-0.139097</td>\n",
       "      <td>-0.055353</td>\n",
       "      <td>-0.059752</td>\n",
       "      <td>378.66</td>\n",
       "      <td>0</td>\n",
       "    </tr>\n",
       "    <tr>\n",
       "      <th>3</th>\n",
       "      <td>1.0</td>\n",
       "      <td>-0.966272</td>\n",
       "      <td>-0.185226</td>\n",
       "      <td>1.792993</td>\n",
       "      <td>-0.863291</td>\n",
       "      <td>-0.010309</td>\n",
       "      <td>1.247203</td>\n",
       "      <td>0.237609</td>\n",
       "      <td>0.377436</td>\n",
       "      <td>-1.387024</td>\n",
       "      <td>...</td>\n",
       "      <td>-0.108300</td>\n",
       "      <td>0.005274</td>\n",
       "      <td>-0.190321</td>\n",
       "      <td>-1.175575</td>\n",
       "      <td>0.647376</td>\n",
       "      <td>-0.221929</td>\n",
       "      <td>0.062723</td>\n",
       "      <td>0.061458</td>\n",
       "      <td>123.50</td>\n",
       "      <td>0</td>\n",
       "    </tr>\n",
       "    <tr>\n",
       "      <th>4</th>\n",
       "      <td>2.0</td>\n",
       "      <td>-1.158233</td>\n",
       "      <td>0.877737</td>\n",
       "      <td>1.548718</td>\n",
       "      <td>0.403034</td>\n",
       "      <td>-0.407193</td>\n",
       "      <td>0.095921</td>\n",
       "      <td>0.592941</td>\n",
       "      <td>-0.270533</td>\n",
       "      <td>0.817739</td>\n",
       "      <td>...</td>\n",
       "      <td>-0.009431</td>\n",
       "      <td>0.798278</td>\n",
       "      <td>-0.137458</td>\n",
       "      <td>0.141267</td>\n",
       "      <td>-0.206010</td>\n",
       "      <td>0.502292</td>\n",
       "      <td>0.219422</td>\n",
       "      <td>0.215153</td>\n",
       "      <td>69.99</td>\n",
       "      <td>0</td>\n",
       "    </tr>\n",
       "  </tbody>\n",
       "</table>\n",
       "<p>5 rows × 31 columns</p>\n",
       "</div>"
      ],
      "text/plain": [
       "   Time        V1        V2        V3        V4        V5        V6        V7  \\\n",
       "0   0.0 -1.359807 -0.072781  2.536347  1.378155 -0.338321  0.462388  0.239599   \n",
       "1   0.0  1.191857  0.266151  0.166480  0.448154  0.060018 -0.082361 -0.078803   \n",
       "2   1.0 -1.358354 -1.340163  1.773209  0.379780 -0.503198  1.800499  0.791461   \n",
       "3   1.0 -0.966272 -0.185226  1.792993 -0.863291 -0.010309  1.247203  0.237609   \n",
       "4   2.0 -1.158233  0.877737  1.548718  0.403034 -0.407193  0.095921  0.592941   \n",
       "\n",
       "         V8        V9  ...       V21       V22       V23       V24       V25  \\\n",
       "0  0.098698  0.363787  ... -0.018307  0.277838 -0.110474  0.066928  0.128539   \n",
       "1  0.085102 -0.255425  ... -0.225775 -0.638672  0.101288 -0.339846  0.167170   \n",
       "2  0.247676 -1.514654  ...  0.247998  0.771679  0.909412 -0.689281 -0.327642   \n",
       "3  0.377436 -1.387024  ... -0.108300  0.005274 -0.190321 -1.175575  0.647376   \n",
       "4 -0.270533  0.817739  ... -0.009431  0.798278 -0.137458  0.141267 -0.206010   \n",
       "\n",
       "        V26       V27       V28  Amount  Class  \n",
       "0 -0.189115  0.133558 -0.021053  149.62      0  \n",
       "1  0.125895 -0.008983  0.014724    2.69      0  \n",
       "2 -0.139097 -0.055353 -0.059752  378.66      0  \n",
       "3 -0.221929  0.062723  0.061458  123.50      0  \n",
       "4  0.502292  0.219422  0.215153   69.99      0  \n",
       "\n",
       "[5 rows x 31 columns]"
      ]
     },
     "execution_count": 4,
     "metadata": {},
     "output_type": "execute_result"
    }
   ],
   "source": [
    "df.head()"
   ]
  },
  {
   "cell_type": "code",
   "execution_count": 11,
   "metadata": {},
   "outputs": [],
   "source": [
    "counts = df.Class.value_counts()"
   ]
  },
  {
   "cell_type": "code",
   "execution_count": 12,
   "metadata": {},
   "outputs": [
    {
     "data": {
      "text/plain": [
       "Text(0.5, 0, 'Class (0:Non-Fraudulent, 1:Fraudulent)')"
      ]
     },
     "execution_count": 12,
     "metadata": {},
     "output_type": "execute_result"
    },
    {
     "data": {
      "image/png": "[encoded data removed]",
      "text/plain": [
       "<Figure size 720x576 with 1 Axes>"
      ]
     },
     "metadata": {
      "needs_background": "light"
     },
     "output_type": "display_data"
    }
   ],
   "source": [
    "plt.figure(figsize=(10,8))\n",
    "sns.barplot(x=counts.index, y=counts)\n",
    "plt.title('Count of Fraudulent vs. Non-Fraudulent Transactions')\n",
    "plt.ylabel('Count')\n",
    "plt.xlabel('Class (0:Non-Fraudulent, 1:Fraudulent)')"
   ]
  },
  {
   "cell_type": "code",
   "execution_count": 5,
   "metadata": {},
   "outputs": [],
   "source": [
    "legit = df[df.Class == 0]\n",
    "fraud =df[df.Class == 1]"
   ]
  },
  {
   "cell_type": "code",
   "execution_count": 6,
   "metadata": {},
   "outputs": [],
   "source": [
    "legit_sample = legit.sample(n=30000)"
   ]
  },
  {
   "cell_type": "code",
   "execution_count": 7,
   "metadata": {},
   "outputs": [],
   "source": [
    "df_fraud_oversampled = resample(fraud, \n",
    "                                 replace=True,   \n",
    "                                 n_samples=10000 , \n",
    "                                 random_state=0) \n",
    "\n",
    "df_oversampled = pd.concat([df_fraud_oversampled, legit_sample])"
   ]
  },
  {
   "cell_type": "code",
   "execution_count": 8,
   "metadata": {},
   "outputs": [
    {
     "data": {
      "text/plain": [
       "(40000, 31)"
      ]
     },
     "execution_count": 8,
     "metadata": {},
     "output_type": "execute_result"
    }
   ],
   "source": [
    "df_oversampled.shape"
   ]
  },
  {
   "cell_type": "code",
   "execution_count": 6,
   "metadata": {},
   "outputs": [],
   "source": [
    "X = df_oversampled.drop(columns='Class', axis=1)\n",
    "Y = df_oversampled['Class']"
   ]
  },
  {
   "cell_type": "code",
   "execution_count": 7,
   "metadata": {},
   "outputs": [
    {
     "data": {
      "text/plain": [
       "(40000, 26)"
      ]
     },
     "execution_count": 7,
     "metadata": {},
     "output_type": "execute_result"
    }
   ],
   "source": [
    "lsvc = LinearSVC(C=0.01, penalty=\"l1\", dual=False).fit(X, Y)\n",
    "model = SelectFromModel(lsvc, prefit=True)\n",
    "X_new = model.transform(X)\n",
    "X_new.shape"
   ]
  },
  {
   "cell_type": "code",
   "execution_count": 14,
   "metadata": {},
   "outputs": [],
   "source": [
    "counts = df_oversampled.Class.value_counts()"
   ]
  },
  {
   "cell_type": "code",
   "execution_count": 15,
   "metadata": {},
   "outputs": [
    {
     "data": {
      "text/plain": [
       "Text(0.5, 0, 'Class (0:Non-Fraudulent, 1:Fraudulent)')"
      ]
     },
     "execution_count": 15,
     "metadata": {},
     "output_type": "execute_result"
    },
    {
     "data": {
      "image/png": "[encoded data removed]",
      "text/plain": [
       "<Figure size 720x576 with 1 Axes>"
      ]
     },
     "metadata": {
      "needs_background": "light"
     },
     "output_type": "display_data"
    }
   ],
   "source": [
    "plt.figure(figsize=(10,8))\n",
    "sns.barplot(x=counts.index, y=counts)\n",
    "plt.title('Count of Fraudulent vs. Non-Fraudulent Transactions')\n",
    "plt.ylabel('Count')\n",
    "plt.xlabel('Class (0:Non-Fraudulent, 1:Fraudulent)')"
   ]
  },
  {
   "cell_type": "code",
   "execution_count": 8,
   "metadata": {},
   "outputs": [
    {
     "data": {
      "text/html": [
       "<div>\n",
       "<style scoped>\n",
       "    .dataframe tbody tr th:only-of-type {\n",
       "        vertical-align: middle;\n",
       "    }\n",
       "\n",
       "    .dataframe tbody tr th {\n",
       "        vertical-align: top;\n",
       "    }\n",
       "\n",
       "    .dataframe thead th {\n",
       "        text-align: right;\n",
       "    }\n",
       "</style>\n",
       "<table border=\"1\" class=\"dataframe\">\n",
       "  <thead>\n",
       "    <tr style=\"text-align: right;\">\n",
       "      <th></th>\n",
       "      <th>Time</th>\n",
       "      <th>V1</th>\n",
       "      <th>V2</th>\n",
       "      <th>V3</th>\n",
       "      <th>V4</th>\n",
       "      <th>V5</th>\n",
       "      <th>V6</th>\n",
       "      <th>V7</th>\n",
       "      <th>V8</th>\n",
       "      <th>V9</th>\n",
       "      <th>...</th>\n",
       "      <th>V20</th>\n",
       "      <th>V21</th>\n",
       "      <th>V22</th>\n",
       "      <th>V23</th>\n",
       "      <th>V24</th>\n",
       "      <th>V25</th>\n",
       "      <th>V26</th>\n",
       "      <th>V27</th>\n",
       "      <th>V28</th>\n",
       "      <th>Amount</th>\n",
       "    </tr>\n",
       "  </thead>\n",
       "  <tbody>\n",
       "    <tr>\n",
       "      <th>68633</th>\n",
       "      <td>53076.0</td>\n",
       "      <td>1.296231</td>\n",
       "      <td>0.417447</td>\n",
       "      <td>0.193963</td>\n",
       "      <td>0.901644</td>\n",
       "      <td>0.130531</td>\n",
       "      <td>-0.371634</td>\n",
       "      <td>0.158126</td>\n",
       "      <td>-0.202669</td>\n",
       "      <td>-0.079512</td>\n",
       "      <td>...</td>\n",
       "      <td>-0.029559</td>\n",
       "      <td>-0.112114</td>\n",
       "      <td>-0.220002</td>\n",
       "      <td>-0.121022</td>\n",
       "      <td>-0.440454</td>\n",
       "      <td>0.671540</td>\n",
       "      <td>-0.413518</td>\n",
       "      <td>0.032838</td>\n",
       "      <td>0.020600</td>\n",
       "      <td>1.18</td>\n",
       "    </tr>\n",
       "    <tr>\n",
       "      <th>10897</th>\n",
       "      <td>18690.0</td>\n",
       "      <td>-15.398845</td>\n",
       "      <td>7.472324</td>\n",
       "      <td>-19.026912</td>\n",
       "      <td>11.165526</td>\n",
       "      <td>-6.893856</td>\n",
       "      <td>-2.120937</td>\n",
       "      <td>-14.913330</td>\n",
       "      <td>-0.721214</td>\n",
       "      <td>-7.175097</td>\n",
       "      <td>...</td>\n",
       "      <td>1.111502</td>\n",
       "      <td>-2.444884</td>\n",
       "      <td>0.727495</td>\n",
       "      <td>-0.345078</td>\n",
       "      <td>-0.981749</td>\n",
       "      <td>0.995271</td>\n",
       "      <td>0.816762</td>\n",
       "      <td>2.262942</td>\n",
       "      <td>-1.178063</td>\n",
       "      <td>1.00</td>\n",
       "    </tr>\n",
       "    <tr>\n",
       "      <th>42674</th>\n",
       "      <td>41194.0</td>\n",
       "      <td>-7.896886</td>\n",
       "      <td>5.381020</td>\n",
       "      <td>-8.451162</td>\n",
       "      <td>7.963928</td>\n",
       "      <td>-7.862419</td>\n",
       "      <td>-2.376820</td>\n",
       "      <td>-11.949723</td>\n",
       "      <td>5.051356</td>\n",
       "      <td>-6.912076</td>\n",
       "      <td>...</td>\n",
       "      <td>0.645974</td>\n",
       "      <td>2.557944</td>\n",
       "      <td>0.926278</td>\n",
       "      <td>0.032795</td>\n",
       "      <td>0.638073</td>\n",
       "      <td>0.361887</td>\n",
       "      <td>0.444577</td>\n",
       "      <td>1.101923</td>\n",
       "      <td>0.205958</td>\n",
       "      <td>1.52</td>\n",
       "    </tr>\n",
       "    <tr>\n",
       "      <th>79536</th>\n",
       "      <td>58067.0</td>\n",
       "      <td>-0.264869</td>\n",
       "      <td>3.386140</td>\n",
       "      <td>-3.454997</td>\n",
       "      <td>4.367629</td>\n",
       "      <td>3.336060</td>\n",
       "      <td>-2.053918</td>\n",
       "      <td>0.256890</td>\n",
       "      <td>-2.957235</td>\n",
       "      <td>-2.855797</td>\n",
       "      <td>...</td>\n",
       "      <td>0.482513</td>\n",
       "      <td>-1.394504</td>\n",
       "      <td>-0.166029</td>\n",
       "      <td>-1.452081</td>\n",
       "      <td>-0.251815</td>\n",
       "      <td>1.243461</td>\n",
       "      <td>0.452787</td>\n",
       "      <td>0.132218</td>\n",
       "      <td>0.424599</td>\n",
       "      <td>1.00</td>\n",
       "    </tr>\n",
       "    <tr>\n",
       "      <th>151462</th>\n",
       "      <td>95559.0</td>\n",
       "      <td>-16.308650</td>\n",
       "      <td>11.614801</td>\n",
       "      <td>-19.739386</td>\n",
       "      <td>10.463866</td>\n",
       "      <td>-12.599146</td>\n",
       "      <td>-1.202393</td>\n",
       "      <td>-23.380508</td>\n",
       "      <td>-5.781133</td>\n",
       "      <td>-7.811022</td>\n",
       "      <td>...</td>\n",
       "      <td>2.106034</td>\n",
       "      <td>-4.884983</td>\n",
       "      <td>1.140910</td>\n",
       "      <td>1.392953</td>\n",
       "      <td>0.348997</td>\n",
       "      <td>-2.167510</td>\n",
       "      <td>-0.798754</td>\n",
       "      <td>-2.942775</td>\n",
       "      <td>-0.462680</td>\n",
       "      <td>1.63</td>\n",
       "    </tr>\n",
       "    <tr>\n",
       "      <th>...</th>\n",
       "      <td>...</td>\n",
       "      <td>...</td>\n",
       "      <td>...</td>\n",
       "      <td>...</td>\n",
       "      <td>...</td>\n",
       "      <td>...</td>\n",
       "      <td>...</td>\n",
       "      <td>...</td>\n",
       "      <td>...</td>\n",
       "      <td>...</td>\n",
       "      <td>...</td>\n",
       "      <td>...</td>\n",
       "      <td>...</td>\n",
       "      <td>...</td>\n",
       "      <td>...</td>\n",
       "      <td>...</td>\n",
       "      <td>...</td>\n",
       "      <td>...</td>\n",
       "      <td>...</td>\n",
       "      <td>...</td>\n",
       "      <td>...</td>\n",
       "    </tr>\n",
       "    <tr>\n",
       "      <th>171285</th>\n",
       "      <td>120569.0</td>\n",
       "      <td>-0.251796</td>\n",
       "      <td>0.707796</td>\n",
       "      <td>-0.542789</td>\n",
       "      <td>-2.102182</td>\n",
       "      <td>0.040493</td>\n",
       "      <td>-1.725989</td>\n",
       "      <td>0.796277</td>\n",
       "      <td>0.025942</td>\n",
       "      <td>0.614489</td>\n",
       "      <td>...</td>\n",
       "      <td>-0.243942</td>\n",
       "      <td>0.050895</td>\n",
       "      <td>0.187698</td>\n",
       "      <td>-0.017265</td>\n",
       "      <td>0.064476</td>\n",
       "      <td>-0.610933</td>\n",
       "      <td>-0.372124</td>\n",
       "      <td>0.077306</td>\n",
       "      <td>0.140104</td>\n",
       "      <td>8.14</td>\n",
       "    </tr>\n",
       "    <tr>\n",
       "      <th>138549</th>\n",
       "      <td>82716.0</td>\n",
       "      <td>1.210965</td>\n",
       "      <td>-0.043560</td>\n",
       "      <td>0.635756</td>\n",
       "      <td>0.899367</td>\n",
       "      <td>-0.698891</td>\n",
       "      <td>-0.585779</td>\n",
       "      <td>-0.173448</td>\n",
       "      <td>-0.073145</td>\n",
       "      <td>0.687120</td>\n",
       "      <td>...</td>\n",
       "      <td>-0.132165</td>\n",
       "      <td>-0.109261</td>\n",
       "      <td>-0.099589</td>\n",
       "      <td>-0.069652</td>\n",
       "      <td>0.446295</td>\n",
       "      <td>0.537056</td>\n",
       "      <td>0.411208</td>\n",
       "      <td>-0.016987</td>\n",
       "      <td>0.012553</td>\n",
       "      <td>12.36</td>\n",
       "    </tr>\n",
       "    <tr>\n",
       "      <th>15763</th>\n",
       "      <td>27198.0</td>\n",
       "      <td>1.236103</td>\n",
       "      <td>0.291621</td>\n",
       "      <td>0.188300</td>\n",
       "      <td>0.500906</td>\n",
       "      <td>-0.157327</td>\n",
       "      <td>-0.561305</td>\n",
       "      <td>-0.025536</td>\n",
       "      <td>-0.033587</td>\n",
       "      <td>-0.198959</td>\n",
       "      <td>...</td>\n",
       "      <td>-0.061076</td>\n",
       "      <td>-0.257811</td>\n",
       "      <td>-0.781130</td>\n",
       "      <td>0.076609</td>\n",
       "      <td>-0.037961</td>\n",
       "      <td>0.228446</td>\n",
       "      <td>0.097420</td>\n",
       "      <td>-0.027606</td>\n",
       "      <td>0.017268</td>\n",
       "      <td>1.98</td>\n",
       "    </tr>\n",
       "    <tr>\n",
       "      <th>15034</th>\n",
       "      <td>26372.0</td>\n",
       "      <td>-1.302555</td>\n",
       "      <td>0.469460</td>\n",
       "      <td>1.526885</td>\n",
       "      <td>0.128371</td>\n",
       "      <td>0.941855</td>\n",
       "      <td>0.650151</td>\n",
       "      <td>0.144497</td>\n",
       "      <td>0.285458</td>\n",
       "      <td>0.105825</td>\n",
       "      <td>...</td>\n",
       "      <td>-0.409330</td>\n",
       "      <td>-0.040171</td>\n",
       "      <td>-0.000424</td>\n",
       "      <td>-0.575018</td>\n",
       "      <td>-0.829739</td>\n",
       "      <td>0.720746</td>\n",
       "      <td>-0.339815</td>\n",
       "      <td>-0.342793</td>\n",
       "      <td>-0.020054</td>\n",
       "      <td>10.00</td>\n",
       "    </tr>\n",
       "    <tr>\n",
       "      <th>67925</th>\n",
       "      <td>52752.0</td>\n",
       "      <td>1.220323</td>\n",
       "      <td>-0.038844</td>\n",
       "      <td>0.840607</td>\n",
       "      <td>0.830513</td>\n",
       "      <td>-0.361230</td>\n",
       "      <td>0.517083</td>\n",
       "      <td>-0.663141</td>\n",
       "      <td>0.116145</td>\n",
       "      <td>0.635753</td>\n",
       "      <td>...</td>\n",
       "      <td>0.053960</td>\n",
       "      <td>0.186405</td>\n",
       "      <td>0.614173</td>\n",
       "      <td>-0.275062</td>\n",
       "      <td>-0.964989</td>\n",
       "      <td>0.584918</td>\n",
       "      <td>-0.173928</td>\n",
       "      <td>0.077951</td>\n",
       "      <td>0.035590</td>\n",
       "      <td>29.95</td>\n",
       "    </tr>\n",
       "  </tbody>\n",
       "</table>\n",
       "<p>40000 rows × 30 columns</p>\n",
       "</div>"
      ],
      "text/plain": [
       "            Time         V1         V2         V3         V4         V5  \\\n",
       "68633    53076.0   1.296231   0.417447   0.193963   0.901644   0.130531   \n",
       "10897    18690.0 -15.398845   7.472324 -19.026912  11.165526  -6.893856   \n",
       "42674    41194.0  -7.896886   5.381020  -8.451162   7.963928  -7.862419   \n",
       "79536    58067.0  -0.264869   3.386140  -3.454997   4.367629   3.336060   \n",
       "151462   95559.0 -16.308650  11.614801 -19.739386  10.463866 -12.599146   \n",
       "...          ...        ...        ...        ...        ...        ...   \n",
       "171285  120569.0  -0.251796   0.707796  -0.542789  -2.102182   0.040493   \n",
       "138549   82716.0   1.210965  -0.043560   0.635756   0.899367  -0.698891   \n",
       "15763    27198.0   1.236103   0.291621   0.188300   0.500906  -0.157327   \n",
       "15034    26372.0  -1.302555   0.469460   1.526885   0.128371   0.941855   \n",
       "67925    52752.0   1.220323  -0.038844   0.840607   0.830513  -0.361230   \n",
       "\n",
       "              V6         V7        V8        V9  ...       V20       V21  \\\n",
       "68633  -0.371634   0.158126 -0.202669 -0.079512  ... -0.029559 -0.112114   \n",
       "10897  -2.120937 -14.913330 -0.721214 -7.175097  ...  1.111502 -2.444884   \n",
       "42674  -2.376820 -11.949723  5.051356 -6.912076  ...  0.645974  2.557944   \n",
       "79536  -2.053918   0.256890 -2.957235 -2.855797  ...  0.482513 -1.394504   \n",
       "151462 -1.202393 -23.380508 -5.781133 -7.811022  ...  2.106034 -4.884983   \n",
       "...          ...        ...       ...       ...  ...       ...       ...   \n",
       "171285 -1.725989   0.796277  0.025942  0.614489  ... -0.243942  0.050895   \n",
       "138549 -0.585779  -0.173448 -0.073145  0.687120  ... -0.132165 -0.109261   \n",
       "15763  -0.561305  -0.025536 -0.033587 -0.198959  ... -0.061076 -0.257811   \n",
       "15034   0.650151   0.144497  0.285458  0.105825  ... -0.409330 -0.040171   \n",
       "67925   0.517083  -0.663141  0.116145  0.635753  ...  0.053960  0.186405   \n",
       "\n",
       "             V22       V23       V24       V25       V26       V27       V28  \\\n",
       "68633  -0.220002 -0.121022 -0.440454  0.671540 -0.413518  0.032838  0.020600   \n",
       "10897   0.727495 -0.345078 -0.981749  0.995271  0.816762  2.262942 -1.178063   \n",
       "42674   0.926278  0.032795  0.638073  0.361887  0.444577  1.101923  0.205958   \n",
       "79536  -0.166029 -1.452081 -0.251815  1.243461  0.452787  0.132218  0.424599   \n",
       "151462  1.140910  1.392953  0.348997 -2.167510 -0.798754 -2.942775 -0.462680   \n",
       "...          ...       ...       ...       ...       ...       ...       ...   \n",
       "171285  0.187698 -0.017265  0.064476 -0.610933 -0.372124  0.077306  0.140104   \n",
       "138549 -0.099589 -0.069652  0.446295  0.537056  0.411208 -0.016987  0.012553   \n",
       "15763  -0.781130  0.076609 -0.037961  0.228446  0.097420 -0.027606  0.017268   \n",
       "15034  -0.000424 -0.575018 -0.829739  0.720746 -0.339815 -0.342793 -0.020054   \n",
       "67925   0.614173 -0.275062 -0.964989  0.584918 -0.173928  0.077951  0.035590   \n",
       "\n",
       "        Amount  \n",
       "68633     1.18  \n",
       "10897     1.00  \n",
       "42674     1.52  \n",
       "79536     1.00  \n",
       "151462    1.63  \n",
       "...        ...  \n",
       "171285    8.14  \n",
       "138549   12.36  \n",
       "15763     1.98  \n",
       "15034    10.00  \n",
       "67925    29.95  \n",
       "\n",
       "[40000 rows x 30 columns]"
      ]
     },
     "execution_count": 8,
     "metadata": {},
     "output_type": "execute_result"
    }
   ],
   "source": [
    "scaler = MinMaxScaler()\n",
    "X_new=scaler.fit_transform(X)\n",
    "X"
   ]
  },
  {
   "cell_type": "code",
   "execution_count": 9,
   "metadata": {
    "scrolled": true
   },
   "outputs": [
    {
     "data": {
      "text/plain": [
       "0    30000\n",
       "1    10000\n",
       "Name: Class, dtype: int64"
      ]
     },
     "execution_count": 9,
     "metadata": {},
     "output_type": "execute_result"
    }
   ],
   "source": [
    "df_oversampled['Class'].value_counts()"
   ]
  },
  {
   "cell_type": "code",
   "execution_count": 10,
   "metadata": {},
   "outputs": [],
   "source": [
    "X_train, X_test, Y_train, Y_test = train_test_split(X, Y, test_size=0.2, stratify=Y, random_state=2)"
   ]
  },
  {
   "cell_type": "code",
   "execution_count": 11,
   "metadata": {},
   "outputs": [
    {
     "name": "stdout",
     "output_type": "stream",
     "text": [
      "ACC = 98.0%  PRC = 94.0%  Recall = 100.0% FAR = 2.1%  score = 97.0%\n",
      "ACC = 97.0%  PRC = 90.0%  Recall = 100.0% FAR = 3.533%  score = 95.0%\n",
      "ACC = 96.0%  PRC = 87.0%  Recall = 100.0% FAR = 5.0%  score = 93.0%\n",
      "ACC = 95.0%  PRC = 84.0%  Recall = 100.0% FAR = 6.5%  score = 91.0%\n",
      "ACC = 94.0%  PRC = 81.0%  Recall = 100.0% FAR = 7.6499999999999995%  score = 90.0%\n"
     ]
    }
   ],
   "source": [
    "model=KNeighborsClassifier(n_neighbors=5)\n",
    "model.fit(X_train,Y_train)\n",
    "Y_predict=model.predict(X_test)\n",
    "TN,FP,FN,TP=confusion_matrix(Y_test, Y_predict).ravel()\n",
    "ACC=(TP+TN)/(TP+TN+FP+FN)\n",
    "PRC=TP/(TP+FP)\n",
    "recall=TP/(TP+FN)\n",
    "FAR=FP/(FP+TN)\n",
    "score=(2*PRC*recall)/(PRC+recall)\n",
    "print(f\"ACC = {round(ACC, 2)*100}%  PRC = {round(PRC, 2)*100}%  Recall = {round(recall, 2)*100}% FAR = {round(FAR, 5)*100}%  score = {round(score, 2)*100}%\") "
   ]
  },
  {
   "cell_type": "code",
   "execution_count": 12,
   "metadata": {},
   "outputs": [
    {
     "data": {
      "text/plain": [
       "<sklearn.metrics._plot.confusion_matrix.ConfusionMatrixDisplay at 0x7f5ba43caf70>"
      ]
     },
     "execution_count": 12,
     "metadata": {},
     "output_type": "execute_result"
    },
    {
     "data": {
      "image/png": "[encoded data removed]",
      "text/plain": [
       "<Figure size 432x288 with 2 Axes>"
      ]
     },
     "metadata": {
      "needs_background": "light"
     },
     "output_type": "display_data"
    }
   ],
   "source": [
    "plot_confusion_matrix(model,X_test,Y_test)"
   ]
  }
 ],
 "metadata": {
  "kernelspec": {
   "display_name": "Python 3",
   "language": "python",
   "name": "python3"
  },
  "language_info": {
   "codemirror_mode": {
    "name": "ipython",
    "version": 3
   },
   "file_extension": ".py",
   "mimetype": "text/x-python",
   "name": "python",
   "nbconvert_exporter": "python",
   "pygments_lexer": "ipython3",
   "version": "3.8.5"
  }
 },
 "nbformat": 4,
 "nbformat_minor": 4
}
